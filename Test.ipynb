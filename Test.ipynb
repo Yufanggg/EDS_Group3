{
 "cells": [
  {
   "cell_type": "code",
   "execution_count": 26,
   "metadata": {},
   "outputs": [
    {
     "name": "stdout",
     "output_type": "stream",
     "text": [
      "                time  Total gas used\n",
      "0   2022-01-01 00:00             NaN\n",
      "1   2022-01-01 00:15             NaN\n",
      "2   2022-01-01 00:30             NaN\n",
      "3   2022-01-01 00:45             NaN\n",
      "4   2022-01-01 01:00             NaN\n",
      "..               ...             ...\n",
      "95  2022-01-01 23:45             NaN\n",
      "96  2022-01-02 00:00             NaN\n",
      "97  2022-01-02 00:15             NaN\n",
      "98  2022-01-02 00:30             NaN\n",
      "99  2022-01-02 00:45             NaN\n",
      "\n",
      "[100 rows x 2 columns]\n"
     ]
    },
    {
     "data": {
      "text/plain": [
       "(25436, 2)"
      ]
     },
     "execution_count": 26,
     "metadata": {},
     "output_type": "execute_result"
    }
   ],
   "source": [
    "import gzip\n",
    "import pandas as pd\n",
    "import sqlalchemy as sa\n",
    "\n",
    "filepath = \"C:/Users/Alisa_Wang/Desktop/EDS_Group3/data/P1g/P1g-2022-01-01-2022-09-22.csv.gz\"\n",
    "df = pd.read_csv(gzip.open(filepath, 'rb'))\n",
    "print(df.head(100))\n",
    "df.index = pd.to_datetime(df['time']).astype('int64').div(10**9).astype(int)\n",
    "df.shape\n",
    "\n",
    "engine = sa.create_engine(\"db/pythondqlite.db\")\n",
    "with engine.connect() as conn:\n",
    "    df.to_sql(name = \"p1g\", con = conn, if_exists=\"append\", method=)\n",
    "# import sqlalchemy as sa\n",
    "\n",
    "# def main(db_url: str, filepath: str):\n",
    "#     # read the file into pandas\n",
    "#     df = pd.read_csv(gzip.open(filepath, 'rb'))\n",
    "\n",
    "#     # convert time to timestamp and set as index\n",
    "#     df.index = pd.to_datetime(df['time']).astype(int).div(10**9).astype(int)"
   ]
  }
 ],
 "metadata": {
  "kernelspec": {
   "display_name": "base",
   "language": "python",
   "name": "python3"
  },
  "language_info": {
   "codemirror_mode": {
    "name": "ipython",
    "version": 3
   },
   "file_extension": ".py",
   "mimetype": "text/x-python",
   "name": "python",
   "nbconvert_exporter": "python",
   "pygments_lexer": "ipython3",
   "version": "3.11.5"
  }
 },
 "nbformat": 4,
 "nbformat_minor": 2
}
